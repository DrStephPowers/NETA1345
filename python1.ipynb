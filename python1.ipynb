{
 "cells": [
  {
   "cell_type": "code",
   "execution_count": 1,
   "id": "f3ab654d",
   "metadata": {},
   "outputs": [
    {
     "name": "stdout",
     "output_type": "stream",
     "text": [
      "hello world\n"
     ]
    }
   ],
   "source": [
    "print(\"hello world\")"
   ]
  },
  {
   "cell_type": "code",
   "execution_count": 5,
   "id": "3e6fe95b",
   "metadata": {},
   "outputs": [],
   "source": [
    "import random\n",
    "import string"
   ]
  },
  {
   "cell_type": "code",
   "execution_count": 6,
   "id": "c107567b",
   "metadata": {},
   "outputs": [],
   "source": [
    "password = []\n",
    "\n",
    "password.append(random.choice(string.ascii_lowercase))\n",
    "password.append(random.choice(string.ascii_lowercase))\n",
    "password.append(random.choice(string.ascii_uppercase))\n",
    "password.append(random.choice(\"&^%$#\"))\n",
    "password.append(random.choice(string.ascii_lowercase))\n",
    "password.append(random.choice(string.ascii_lowercase))"
   ]
  },
  {
   "cell_type": "code",
   "execution_count": 8,
   "id": "c8f272b6",
   "metadata": {},
   "outputs": [
    {
     "name": "stdout",
     "output_type": "stream",
     "text": [
      "['y', 'x', 'F', '%', 'r', 'v']\n"
     ]
    }
   ],
   "source": [
    "print(password)"
   ]
  },
  {
   "cell_type": "code",
   "execution_count": 16,
   "id": "8b676a2c",
   "metadata": {},
   "outputs": [
    {
     "name": "stdout",
     "output_type": "stream",
     "text": [
      "Too low!\n",
      "Too low!\n",
      "Too high!\n",
      "Too high!\n",
      "Too low!\n",
      "Too low!\n",
      "Too low!\n",
      "Too low!\n",
      "Too high!\n",
      "Too low!\n",
      "You win!\n"
     ]
    }
   ],
   "source": [
    "import random \n",
    "\n",
    "secret = random.randint(1, 100) \n",
    "\n",
    "while True: \n",
    "    guess = int(input(\"Guess (1-100): \")) \n",
    "    if guess == secret: \n",
    "        print(\"You win!\") \n",
    "        break \n",
    "    print(\"Too high!\" if guess > secret else \"Too low!\")"
   ]
  }
 ],
 "metadata": {
  "kernelspec": {
   "display_name": ".venv",
   "language": "python",
   "name": "python3"
  },
  "language_info": {
   "codemirror_mode": {
    "name": "ipython",
    "version": 3
   },
   "file_extension": ".py",
   "mimetype": "text/x-python",
   "name": "python",
   "nbconvert_exporter": "python",
   "pygments_lexer": "ipython3",
   "version": "3.13.7"
  }
 },
 "nbformat": 4,
 "nbformat_minor": 5
}
